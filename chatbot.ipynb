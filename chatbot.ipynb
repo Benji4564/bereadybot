{
 "cells": [
  {
   "cell_type": "markdown",
   "metadata": {},
   "source": [
    "<h1 style = \"text-align:center\"> Chatbot for Pirate Recruitment </h1>\n",
    "<img src = \"https://cdn-images-1.medium.com/max/800/1*SAHhdvu3v9l81OjsfBa_Yw.jpeg\" />\n",
    "\n",
    "Going Merry is a chatbot that helps in recruitment of pirates all around the world. this answer user's simple questions regarding the recruitment process, pre-requisites, etc."
   ]
  },
  {
   "cell_type": "markdown",
   "metadata": {},
   "source": [
    "<h2>Libraries</h2>\n",
    "The main libraries that are used are tensorflow2, keras , numpy and pandas"
   ]
  },
  {
   "cell_type": "code",
   "execution_count": 18,
   "metadata": {
    "id": "70nBFLDY0kcP"
   },
   "outputs": [],
   "source": [
    "#importing the libraries\n",
    "import tensorflow as tf\n",
    "import numpy as np\n",
    "import pandas as pd\n",
    "import json\n",
    "import nltk\n",
    "from tensorflow.keras.preprocessing.text import Tokenizer\n",
    "from tensorflow.keras.layers import Input, Embedding, LSTM , Dense,GlobalMaxPooling1D,Flatten\n",
    "from tensorflow.keras.models import Model\n",
    "import matplotlib.pyplot as plt"
   ]
  },
  {
   "cell_type": "markdown",
   "metadata": {},
   "source": [
    "<h2> Importing the Data </h2>\n",
    "\n",
    "The data is stored in a json file, which can be imported and used as a pandas dataframe.\n",
    "This data was manually created by me. hence, it's not that big.<br>\n",
    "we all know that deep learning requires large chunks of data. but, That is not the case here. I have utilized a neural network architecture powerful enough to handle this small amount of data"
   ]
  },
  {
   "cell_type": "code",
   "execution_count": 19,
   "metadata": {
    "id": "Rvgn3orx0sAJ"
   },
   "outputs": [],
   "source": [
    "#importing the dataset\n",
    "with open('content.json') as content:\n",
    "  data1 = json.load(content)"
   ]
  },
  {
   "cell_type": "code",
   "execution_count": 20,
   "metadata": {
    "id": "PGGvrVhl07o8"
   },
   "outputs": [],
   "source": [
    "#getting all the data to lists\n",
    "tags = []\n",
    "inputs = []\n",
    "responses={}\n",
    "for intent in data1['intents']:\n",
    "  responses[intent['tag']]=intent['responses']\n",
    "  for lines in intent['input']:\n",
    "    inputs.append(lines)\n",
    "    tags.append(intent['tag'])"
   ]
  },
  {
   "cell_type": "code",
   "execution_count": 21,
   "metadata": {
    "id": "ruibWXd_3xFR"
   },
   "outputs": [],
   "source": [
    "#converting to dataframe\n",
    "data = pd.DataFrame({\"inputs\":inputs,\n",
    "                     \"tags\":tags})"
   ]
  },
  {
   "cell_type": "code",
   "execution_count": 22,
   "metadata": {
    "colab": {
     "base_uri": "https://localhost:8080/",
     "height": 419
    },
    "id": "elc0th634mTr",
    "outputId": "e4d9b7bc-3067-4c05-be6c-c0b3393c6d7b"
   },
   "outputs": [
    {
     "data": {
      "text/html": [
       "<div>\n",
       "<style scoped>\n",
       "    .dataframe tbody tr th:only-of-type {\n",
       "        vertical-align: middle;\n",
       "    }\n",
       "\n",
       "    .dataframe tbody tr th {\n",
       "        vertical-align: top;\n",
       "    }\n",
       "\n",
       "    .dataframe thead th {\n",
       "        text-align: right;\n",
       "    }\n",
       "</style>\n",
       "<table border=\"1\" class=\"dataframe\">\n",
       "  <thead>\n",
       "    <tr style=\"text-align: right;\">\n",
       "      <th></th>\n",
       "      <th>inputs</th>\n",
       "      <th>tags</th>\n",
       "    </tr>\n",
       "  </thead>\n",
       "  <tbody>\n",
       "    <tr>\n",
       "      <th>0</th>\n",
       "      <td>hello</td>\n",
       "      <td>greeting</td>\n",
       "    </tr>\n",
       "    <tr>\n",
       "      <th>1</th>\n",
       "      <td>hi there</td>\n",
       "      <td>greeting</td>\n",
       "    </tr>\n",
       "    <tr>\n",
       "      <th>2</th>\n",
       "      <td>nice to meet you</td>\n",
       "      <td>greeting</td>\n",
       "    </tr>\n",
       "    <tr>\n",
       "      <th>3</th>\n",
       "      <td>hello</td>\n",
       "      <td>greeting</td>\n",
       "    </tr>\n",
       "    <tr>\n",
       "      <th>4</th>\n",
       "      <td>any pirates here ?</td>\n",
       "      <td>greeting</td>\n",
       "    </tr>\n",
       "    <tr>\n",
       "      <th>...</th>\n",
       "      <td>...</td>\n",
       "      <td>...</td>\n",
       "    </tr>\n",
       "    <tr>\n",
       "      <th>78</th>\n",
       "      <td>what's the basic requirements</td>\n",
       "      <td>prerequisites</td>\n",
       "    </tr>\n",
       "    <tr>\n",
       "      <th>79</th>\n",
       "      <td>what are the basic skills to get recruited ?</td>\n",
       "      <td>prerequisites</td>\n",
       "    </tr>\n",
       "    <tr>\n",
       "      <th>80</th>\n",
       "      <td>How to create groups</td>\n",
       "      <td>groupcreation</td>\n",
       "    </tr>\n",
       "    <tr>\n",
       "      <th>81</th>\n",
       "      <td>I need help with the creation of groups</td>\n",
       "      <td>groupcreation</td>\n",
       "    </tr>\n",
       "    <tr>\n",
       "      <th>82</th>\n",
       "      <td>What do I have to do to create groups</td>\n",
       "      <td>groupcreation</td>\n",
       "    </tr>\n",
       "  </tbody>\n",
       "</table>\n",
       "<p>83 rows × 2 columns</p>\n",
       "</div>"
      ],
      "text/plain": [
       "                                          inputs           tags\n",
       "0                                          hello       greeting\n",
       "1                                       hi there       greeting\n",
       "2                               nice to meet you       greeting\n",
       "3                                          hello       greeting\n",
       "4                             any pirates here ?       greeting\n",
       "..                                           ...            ...\n",
       "78                 what's the basic requirements  prerequisites\n",
       "79  what are the basic skills to get recruited ?  prerequisites\n",
       "80                          How to create groups  groupcreation\n",
       "81       I need help with the creation of groups  groupcreation\n",
       "82         What do I have to do to create groups  groupcreation\n",
       "\n",
       "[83 rows x 2 columns]"
      ]
     },
     "execution_count": 22,
     "metadata": {},
     "output_type": "execute_result"
    }
   ],
   "source": [
    "#printing the data\n",
    "data"
   ]
  },
  {
   "cell_type": "code",
   "execution_count": 23,
   "metadata": {
    "id": "xd5Z3_oFf7iA"
   },
   "outputs": [],
   "source": [
    "data = data.sample(frac=1)"
   ]
  },
  {
   "cell_type": "markdown",
   "metadata": {},
   "source": [
    "<h2> Pre-Processing </h2>\n",
    "\n",
    "Important pre-processing such as removing the punctuations, converting to lowercase, encoding the textual data to numerical data are done"
   ]
  },
  {
   "cell_type": "code",
   "execution_count": 24,
   "metadata": {
    "colab": {
     "base_uri": "https://localhost:8080/",
     "height": 419
    },
    "id": "mm4koLwuGGJb",
    "outputId": "94d4af63-5fe5-42b9-aced-8d65e5616060"
   },
   "outputs": [
    {
     "data": {
      "text/html": [
       "<div>\n",
       "<style scoped>\n",
       "    .dataframe tbody tr th:only-of-type {\n",
       "        vertical-align: middle;\n",
       "    }\n",
       "\n",
       "    .dataframe tbody tr th {\n",
       "        vertical-align: top;\n",
       "    }\n",
       "\n",
       "    .dataframe thead th {\n",
       "        text-align: right;\n",
       "    }\n",
       "</style>\n",
       "<table border=\"1\" class=\"dataframe\">\n",
       "  <thead>\n",
       "    <tr style=\"text-align: right;\">\n",
       "      <th></th>\n",
       "      <th>inputs</th>\n",
       "      <th>tags</th>\n",
       "    </tr>\n",
       "  </thead>\n",
       "  <tbody>\n",
       "    <tr>\n",
       "      <th>3</th>\n",
       "      <td>hello</td>\n",
       "      <td>greeting</td>\n",
       "    </tr>\n",
       "    <tr>\n",
       "      <th>25</th>\n",
       "      <td>i will talk to you later</td>\n",
       "      <td>goodbye</td>\n",
       "    </tr>\n",
       "    <tr>\n",
       "      <th>67</th>\n",
       "      <td>location of the straw hat center</td>\n",
       "      <td>whereisthecenter</td>\n",
       "    </tr>\n",
       "    <tr>\n",
       "      <th>9</th>\n",
       "      <td>hi nice to meet you</td>\n",
       "      <td>greeting</td>\n",
       "    </tr>\n",
       "    <tr>\n",
       "      <th>62</th>\n",
       "      <td>how to enroll</td>\n",
       "      <td>join</td>\n",
       "    </tr>\n",
       "    <tr>\n",
       "      <th>...</th>\n",
       "      <td>...</td>\n",
       "      <td>...</td>\n",
       "    </tr>\n",
       "    <tr>\n",
       "      <th>52</th>\n",
       "      <td>where are you currently at</td>\n",
       "      <td>whereareyou</td>\n",
       "    </tr>\n",
       "    <tr>\n",
       "      <th>24</th>\n",
       "      <td>okay i will see you later</td>\n",
       "      <td>goodbye</td>\n",
       "    </tr>\n",
       "    <tr>\n",
       "      <th>48</th>\n",
       "      <td>where do you live</td>\n",
       "      <td>whereareyou</td>\n",
       "    </tr>\n",
       "    <tr>\n",
       "      <th>23</th>\n",
       "      <td>i will catch up later</td>\n",
       "      <td>goodbye</td>\n",
       "    </tr>\n",
       "    <tr>\n",
       "      <th>68</th>\n",
       "      <td>strawhat centers location</td>\n",
       "      <td>whereisthecenter</td>\n",
       "    </tr>\n",
       "  </tbody>\n",
       "</table>\n",
       "<p>83 rows × 2 columns</p>\n",
       "</div>"
      ],
      "text/plain": [
       "                               inputs              tags\n",
       "3                               hello          greeting\n",
       "25           i will talk to you later           goodbye\n",
       "67  location of the straw hat center   whereisthecenter\n",
       "9                 hi nice to meet you          greeting\n",
       "62                      how to enroll              join\n",
       "..                                ...               ...\n",
       "52         where are you currently at       whereareyou\n",
       "24          okay i will see you later           goodbye\n",
       "48                 where do you live        whereareyou\n",
       "23              i will catch up later           goodbye\n",
       "68         strawhat centers location   whereisthecenter\n",
       "\n",
       "[83 rows x 2 columns]"
      ]
     },
     "execution_count": 24,
     "metadata": {},
     "output_type": "execute_result"
    }
   ],
   "source": [
    "#removing punctuations\n",
    "import string\n",
    "data['inputs'] = data['inputs'].apply(lambda wrd:[ltrs.lower() for ltrs in wrd if ltrs not in string.punctuation])\n",
    "data['inputs'] = data['inputs'].apply(lambda wrd: ''.join(wrd))\n",
    "data"
   ]
  },
  {
   "cell_type": "code",
   "execution_count": 25,
   "metadata": {
    "id": "eNahMu32_h1Q"
   },
   "outputs": [],
   "source": [
    "#tokenize the data\n",
    "from tensorflow.keras.preprocessing.text import Tokenizer\n",
    "tokenizer = Tokenizer(num_words=2000)\n",
    "tokenizer.fit_on_texts(data['inputs'])\n",
    "train = tokenizer.texts_to_sequences(data['inputs'])\n",
    "#apply padding\n",
    "from tensorflow.keras.preprocessing.sequence import pad_sequences\n",
    "x_train = pad_sequences(train)\n",
    "\n",
    "#encoding the outputs\n",
    "from sklearn.preprocessing import LabelEncoder\n",
    "le = LabelEncoder()\n",
    "y_train = le.fit_transform(data['tags'])"
   ]
  },
  {
   "cell_type": "markdown",
   "metadata": {},
   "source": [
    "Tensorflow's tokenizer assigns a unique token to each distinct word. and padding is done to get all the data to the same length so as to send it to an rnn layer"
   ]
  },
  {
   "cell_type": "code",
   "execution_count": 26,
   "metadata": {
    "colab": {
     "base_uri": "https://localhost:8080/",
     "height": 34
    },
    "id": "A-VY9ZnyM_65",
    "outputId": "13522291-df62-4de7-9bba-7b09903d9fa6"
   },
   "outputs": [
    {
     "name": "stdout",
     "output_type": "stream",
     "text": [
      "9\n"
     ]
    }
   ],
   "source": [
    "input_shape = x_train.shape[1]\n",
    "print(input_shape)"
   ]
  },
  {
   "cell_type": "code",
   "execution_count": 27,
   "metadata": {
    "colab": {
     "base_uri": "https://localhost:8080/",
     "height": 51
    },
    "id": "OaXDwXOIAkR4",
    "outputId": "f3ea1290-2abc-4759-b692-3c8860559c74"
   },
   "outputs": [
    {
     "name": "stdout",
     "output_type": "stream",
     "text": [
      "number of unique words :  102\n",
      "output length:  9\n"
     ]
    }
   ],
   "source": [
    "#define vocabulary\n",
    "vocabulary = len(tokenizer.word_index)\n",
    "print(\"number of unique words : \",vocabulary)\n",
    "output_length = le.classes_.shape[0]\n",
    "print(\"output length: \",output_length)"
   ]
  },
  {
   "cell_type": "markdown",
   "metadata": {},
   "source": [
    "<h2>Neural Network</h2>\n",
    "\n",
    "The Network consist of an embedding layer which is one of the most powerful things in the field of natural language processing. the outputs of the embedding layer is the input of the reccurent layer with lstm gate. then, the output is flattened and a regular dense layer is used with a softmax activation function.\n",
    "\n",
    "The main part is the embedding layer which gives has a corresponding vector for each word in the dataset"
   ]
  },
  {
   "cell_type": "code",
   "execution_count": 28,
   "metadata": {
    "id": "vaCZkzTEJCd6"
   },
   "outputs": [],
   "source": [
    "#creating the model\n",
    "\n",
    "i = Input(shape=(input_shape,))\n",
    "x = Embedding(vocabulary+1,10)(i)\n",
    "x = LSTM(10,return_sequences=True)(x)\n",
    "x = Flatten()(x)\n",
    "x = Dense(output_length,activation=\"softmax\")(x)\n",
    "model  = Model(i,x)"
   ]
  },
  {
   "cell_type": "code",
   "execution_count": 29,
   "metadata": {
    "id": "rqF-km_SK04Q"
   },
   "outputs": [],
   "source": [
    "#compiling the model\n",
    "model.compile(loss=\"sparse_categorical_crossentropy\",optimizer='adam',metrics=['accuracy'])"
   ]
  },
  {
   "cell_type": "code",
   "execution_count": 30,
   "metadata": {
    "colab": {
     "base_uri": "https://localhost:8080/",
     "height": 1000
    },
    "id": "Iml1HlsFLUFY",
    "outputId": "9102eefa-b6e3-43fc-bad1-1ae378688150"
   },
   "outputs": [
    {
     "name": "stdout",
     "output_type": "stream",
     "text": [
      "Epoch 1/200\n",
      "3/3 [==============================] - 2s 5ms/step - loss: 2.1965 - accuracy: 0.1325\n",
      "Epoch 2/200\n",
      "3/3 [==============================] - 0s 5ms/step - loss: 2.1922 - accuracy: 0.1928\n",
      "Epoch 3/200\n",
      "3/3 [==============================] - 0s 5ms/step - loss: 2.1886 - accuracy: 0.2169\n",
      "Epoch 4/200\n",
      "3/3 [==============================] - 0s 4ms/step - loss: 2.1843 - accuracy: 0.2771\n",
      "Epoch 5/200\n",
      "3/3 [==============================] - 0s 4ms/step - loss: 2.1803 - accuracy: 0.2771\n",
      "Epoch 6/200\n",
      "3/3 [==============================] - 0s 4ms/step - loss: 2.1758 - accuracy: 0.3012\n",
      "Epoch 7/200\n",
      "3/3 [==============================] - 0s 4ms/step - loss: 2.1709 - accuracy: 0.2892\n",
      "Epoch 8/200\n",
      "3/3 [==============================] - 0s 4ms/step - loss: 2.1650 - accuracy: 0.3253\n",
      "Epoch 9/200\n",
      "3/3 [==============================] - 0s 4ms/step - loss: 2.1592 - accuracy: 0.3012\n",
      "Epoch 10/200\n",
      "3/3 [==============================] - 0s 4ms/step - loss: 2.1519 - accuracy: 0.3012\n",
      "Epoch 11/200\n",
      "3/3 [==============================] - 0s 4ms/step - loss: 2.1432 - accuracy: 0.3012\n",
      "Epoch 12/200\n",
      "3/3 [==============================] - 0s 4ms/step - loss: 2.1347 - accuracy: 0.3012\n",
      "Epoch 13/200\n",
      "3/3 [==============================] - 0s 4ms/step - loss: 2.1253 - accuracy: 0.2771\n",
      "Epoch 14/200\n",
      "3/3 [==============================] - 0s 4ms/step - loss: 2.1131 - accuracy: 0.2651\n",
      "Epoch 15/200\n",
      "3/3 [==============================] - 0s 4ms/step - loss: 2.1006 - accuracy: 0.2410\n",
      "Epoch 16/200\n",
      "3/3 [==============================] - 0s 4ms/step - loss: 2.0869 - accuracy: 0.2651\n",
      "Epoch 17/200\n",
      "3/3 [==============================] - 0s 4ms/step - loss: 2.0719 - accuracy: 0.3012\n",
      "Epoch 18/200\n",
      "3/3 [==============================] - 0s 4ms/step - loss: 2.0575 - accuracy: 0.3012\n",
      "Epoch 19/200\n",
      "3/3 [==============================] - 0s 4ms/step - loss: 2.0382 - accuracy: 0.3012\n",
      "Epoch 20/200\n",
      "3/3 [==============================] - 0s 4ms/step - loss: 2.0240 - accuracy: 0.2169\n",
      "Epoch 21/200\n",
      "3/3 [==============================] - 0s 4ms/step - loss: 2.0078 - accuracy: 0.1928\n",
      "Epoch 22/200\n",
      "3/3 [==============================] - 0s 4ms/step - loss: 1.9942 - accuracy: 0.1928\n",
      "Epoch 23/200\n",
      "3/3 [==============================] - 0s 4ms/step - loss: 1.9767 - accuracy: 0.1928\n",
      "Epoch 24/200\n",
      "3/3 [==============================] - 0s 4ms/step - loss: 1.9617 - accuracy: 0.2048\n",
      "Epoch 25/200\n",
      "3/3 [==============================] - 0s 4ms/step - loss: 1.9463 - accuracy: 0.2169\n",
      "Epoch 26/200\n",
      "3/3 [==============================] - 0s 4ms/step - loss: 1.9284 - accuracy: 0.2169\n",
      "Epoch 27/200\n",
      "3/3 [==============================] - 0s 4ms/step - loss: 1.9109 - accuracy: 0.2289\n",
      "Epoch 28/200\n",
      "3/3 [==============================] - 0s 4ms/step - loss: 1.8927 - accuracy: 0.2530\n",
      "Epoch 29/200\n",
      "3/3 [==============================] - 0s 4ms/step - loss: 1.8746 - accuracy: 0.3012\n",
      "Epoch 30/200\n",
      "3/3 [==============================] - 0s 4ms/step - loss: 1.8536 - accuracy: 0.3494\n",
      "Epoch 31/200\n",
      "3/3 [==============================] - 0s 4ms/step - loss: 1.8338 - accuracy: 0.3614\n",
      "Epoch 32/200\n",
      "3/3 [==============================] - 0s 4ms/step - loss: 1.8121 - accuracy: 0.3614\n",
      "Epoch 33/200\n",
      "3/3 [==============================] - 0s 4ms/step - loss: 1.7915 - accuracy: 0.3976\n",
      "Epoch 34/200\n",
      "3/3 [==============================] - 0s 4ms/step - loss: 1.7688 - accuracy: 0.4217\n",
      "Epoch 35/200\n",
      "3/3 [==============================] - 0s 4ms/step - loss: 1.7460 - accuracy: 0.4217\n",
      "Epoch 36/200\n",
      "3/3 [==============================] - 0s 4ms/step - loss: 1.7231 - accuracy: 0.4458\n",
      "Epoch 37/200\n",
      "3/3 [==============================] - 0s 4ms/step - loss: 1.7013 - accuracy: 0.4578\n",
      "Epoch 38/200\n",
      "3/3 [==============================] - 0s 4ms/step - loss: 1.6764 - accuracy: 0.5181\n",
      "Epoch 39/200\n",
      "3/3 [==============================] - 0s 4ms/step - loss: 1.6516 - accuracy: 0.5060\n",
      "Epoch 40/200\n",
      "3/3 [==============================] - 0s 4ms/step - loss: 1.6280 - accuracy: 0.5181\n",
      "Epoch 41/200\n",
      "3/3 [==============================] - 0s 4ms/step - loss: 1.6021 - accuracy: 0.5301\n",
      "Epoch 42/200\n",
      "3/3 [==============================] - 0s 4ms/step - loss: 1.5777 - accuracy: 0.5301\n",
      "Epoch 43/200\n",
      "3/3 [==============================] - 0s 4ms/step - loss: 1.5536 - accuracy: 0.5663\n",
      "Epoch 44/200\n",
      "3/3 [==============================] - 0s 4ms/step - loss: 1.5279 - accuracy: 0.5783\n",
      "Epoch 45/200\n",
      "3/3 [==============================] - 0s 4ms/step - loss: 1.5038 - accuracy: 0.5904\n",
      "Epoch 46/200\n",
      "3/3 [==============================] - 0s 4ms/step - loss: 1.4781 - accuracy: 0.6024\n",
      "Epoch 47/200\n",
      "3/3 [==============================] - 0s 4ms/step - loss: 1.4527 - accuracy: 0.6024\n",
      "Epoch 48/200\n",
      "3/3 [==============================] - 0s 4ms/step - loss: 1.4272 - accuracy: 0.5783\n",
      "Epoch 49/200\n",
      "3/3 [==============================] - 0s 4ms/step - loss: 1.4026 - accuracy: 0.5904\n",
      "Epoch 50/200\n",
      "3/3 [==============================] - 0s 4ms/step - loss: 1.3766 - accuracy: 0.5904\n",
      "Epoch 51/200\n",
      "3/3 [==============================] - 0s 4ms/step - loss: 1.3515 - accuracy: 0.5904\n",
      "Epoch 52/200\n",
      "3/3 [==============================] - 0s 4ms/step - loss: 1.3275 - accuracy: 0.6024\n",
      "Epoch 53/200\n",
      "3/3 [==============================] - 0s 4ms/step - loss: 1.3013 - accuracy: 0.6145\n",
      "Epoch 54/200\n",
      "3/3 [==============================] - 0s 4ms/step - loss: 1.2757 - accuracy: 0.6627\n",
      "Epoch 55/200\n",
      "3/3 [==============================] - 0s 4ms/step - loss: 1.2547 - accuracy: 0.6145\n",
      "Epoch 56/200\n",
      "3/3 [==============================] - 0s 4ms/step - loss: 1.2294 - accuracy: 0.6145\n",
      "Epoch 57/200\n",
      "3/3 [==============================] - 0s 4ms/step - loss: 1.2064 - accuracy: 0.6627\n",
      "Epoch 58/200\n",
      "3/3 [==============================] - 0s 4ms/step - loss: 1.1830 - accuracy: 0.6867\n",
      "Epoch 59/200\n",
      "3/3 [==============================] - 0s 4ms/step - loss: 1.1594 - accuracy: 0.6867\n",
      "Epoch 60/200\n",
      "3/3 [==============================] - 0s 4ms/step - loss: 1.1389 - accuracy: 0.6988\n",
      "Epoch 61/200\n",
      "3/3 [==============================] - 0s 4ms/step - loss: 1.1188 - accuracy: 0.6867\n",
      "Epoch 62/200\n",
      "3/3 [==============================] - 0s 4ms/step - loss: 1.0971 - accuracy: 0.7108\n",
      "Epoch 63/200\n",
      "3/3 [==============================] - 0s 4ms/step - loss: 1.0764 - accuracy: 0.7108\n",
      "Epoch 64/200\n",
      "3/3 [==============================] - 0s 4ms/step - loss: 1.0583 - accuracy: 0.7229\n",
      "Epoch 65/200\n",
      "3/3 [==============================] - 0s 4ms/step - loss: 1.0395 - accuracy: 0.7349\n",
      "Epoch 66/200\n",
      "3/3 [==============================] - 0s 4ms/step - loss: 1.0173 - accuracy: 0.7349\n",
      "Epoch 67/200\n",
      "3/3 [==============================] - 0s 4ms/step - loss: 1.0002 - accuracy: 0.7229\n",
      "Epoch 68/200\n",
      "3/3 [==============================] - 0s 4ms/step - loss: 0.9824 - accuracy: 0.7470\n",
      "Epoch 69/200\n",
      "3/3 [==============================] - 0s 4ms/step - loss: 0.9641 - accuracy: 0.7711\n",
      "Epoch 70/200\n",
      "3/3 [==============================] - 0s 4ms/step - loss: 0.9502 - accuracy: 0.7470\n",
      "Epoch 71/200\n",
      "3/3 [==============================] - 0s 4ms/step - loss: 0.9296 - accuracy: 0.7831\n",
      "Epoch 72/200\n",
      "3/3 [==============================] - 0s 4ms/step - loss: 0.9175 - accuracy: 0.7590\n",
      "Epoch 73/200\n",
      "3/3 [==============================] - 0s 4ms/step - loss: 0.8994 - accuracy: 0.7952\n",
      "Epoch 74/200\n",
      "3/3 [==============================] - 0s 4ms/step - loss: 0.8890 - accuracy: 0.7952\n",
      "Epoch 75/200\n",
      "3/3 [==============================] - 0s 4ms/step - loss: 0.8694 - accuracy: 0.7831\n",
      "Epoch 76/200\n",
      "3/3 [==============================] - 0s 4ms/step - loss: 0.8525 - accuracy: 0.8313\n",
      "Epoch 77/200\n",
      "3/3 [==============================] - 0s 4ms/step - loss: 0.8373 - accuracy: 0.8313\n",
      "Epoch 78/200\n",
      "3/3 [==============================] - 0s 4ms/step - loss: 0.8215 - accuracy: 0.8313\n",
      "Epoch 79/200\n",
      "3/3 [==============================] - 0s 4ms/step - loss: 0.8089 - accuracy: 0.8434\n",
      "Epoch 80/200\n",
      "3/3 [==============================] - 0s 4ms/step - loss: 0.7952 - accuracy: 0.8554\n",
      "Epoch 81/200\n",
      "3/3 [==============================] - 0s 4ms/step - loss: 0.7803 - accuracy: 0.8434\n",
      "Epoch 82/200\n",
      "3/3 [==============================] - 0s 4ms/step - loss: 0.7668 - accuracy: 0.8434\n",
      "Epoch 83/200\n",
      "3/3 [==============================] - 0s 4ms/step - loss: 0.7531 - accuracy: 0.8554\n",
      "Epoch 84/200\n",
      "3/3 [==============================] - 0s 4ms/step - loss: 0.7411 - accuracy: 0.8675\n",
      "Epoch 85/200\n",
      "3/3 [==============================] - 0s 4ms/step - loss: 0.7300 - accuracy: 0.8675\n",
      "Epoch 86/200\n",
      "3/3 [==============================] - 0s 4ms/step - loss: 0.7150 - accuracy: 0.8675\n",
      "Epoch 87/200\n",
      "3/3 [==============================] - 0s 4ms/step - loss: 0.7054 - accuracy: 0.8675\n",
      "Epoch 88/200\n",
      "3/3 [==============================] - 0s 4ms/step - loss: 0.6942 - accuracy: 0.8675\n",
      "Epoch 89/200\n",
      "3/3 [==============================] - 0s 4ms/step - loss: 0.6821 - accuracy: 0.8675\n",
      "Epoch 90/200\n",
      "3/3 [==============================] - 0s 4ms/step - loss: 0.6742 - accuracy: 0.8675\n",
      "Epoch 91/200\n",
      "3/3 [==============================] - 0s 4ms/step - loss: 0.6619 - accuracy: 0.8675\n",
      "Epoch 92/200\n",
      "3/3 [==============================] - 0s 4ms/step - loss: 0.6507 - accuracy: 0.8675\n",
      "Epoch 93/200\n",
      "3/3 [==============================] - 0s 4ms/step - loss: 0.6461 - accuracy: 0.8916\n",
      "Epoch 94/200\n",
      "3/3 [==============================] - 0s 4ms/step - loss: 0.6295 - accuracy: 0.8916\n",
      "Epoch 95/200\n",
      "3/3 [==============================] - 0s 4ms/step - loss: 0.6239 - accuracy: 0.8795\n",
      "Epoch 96/200\n",
      "3/3 [==============================] - 0s 4ms/step - loss: 0.6119 - accuracy: 0.8916\n",
      "Epoch 97/200\n",
      "3/3 [==============================] - 0s 4ms/step - loss: 0.6029 - accuracy: 0.8916\n",
      "Epoch 98/200\n",
      "3/3 [==============================] - 0s 4ms/step - loss: 0.5947 - accuracy: 0.8916\n",
      "Epoch 99/200\n",
      "3/3 [==============================] - 0s 4ms/step - loss: 0.5842 - accuracy: 0.8916\n",
      "Epoch 100/200\n",
      "3/3 [==============================] - 0s 4ms/step - loss: 0.5788 - accuracy: 0.9157\n",
      "Epoch 101/200\n",
      "3/3 [==============================] - 0s 4ms/step - loss: 0.5695 - accuracy: 0.9157\n",
      "Epoch 102/200\n",
      "3/3 [==============================] - 0s 4ms/step - loss: 0.5557 - accuracy: 0.8916\n",
      "Epoch 103/200\n",
      "3/3 [==============================] - 0s 4ms/step - loss: 0.5483 - accuracy: 0.8916\n",
      "Epoch 104/200\n",
      "3/3 [==============================] - 0s 4ms/step - loss: 0.5353 - accuracy: 0.8916\n",
      "Epoch 105/200\n",
      "3/3 [==============================] - 0s 4ms/step - loss: 0.5300 - accuracy: 0.8916\n",
      "Epoch 106/200\n",
      "3/3 [==============================] - 0s 4ms/step - loss: 0.5194 - accuracy: 0.8916\n",
      "Epoch 107/200\n",
      "3/3 [==============================] - 0s 4ms/step - loss: 0.5119 - accuracy: 0.8916\n",
      "Epoch 108/200\n",
      "3/3 [==============================] - 0s 4ms/step - loss: 0.5035 - accuracy: 0.8916\n",
      "Epoch 109/200\n",
      "3/3 [==============================] - 0s 4ms/step - loss: 0.4968 - accuracy: 0.9036\n",
      "Epoch 110/200\n",
      "3/3 [==============================] - 0s 4ms/step - loss: 0.4887 - accuracy: 0.9036\n",
      "Epoch 111/200\n",
      "3/3 [==============================] - 0s 4ms/step - loss: 0.4833 - accuracy: 0.9036\n",
      "Epoch 112/200\n",
      "3/3 [==============================] - 0s 4ms/step - loss: 0.4766 - accuracy: 0.9036\n",
      "Epoch 113/200\n",
      "3/3 [==============================] - 0s 4ms/step - loss: 0.4661 - accuracy: 0.9157\n",
      "Epoch 114/200\n",
      "3/3 [==============================] - 0s 4ms/step - loss: 0.4625 - accuracy: 0.9036\n",
      "Epoch 115/200\n",
      "3/3 [==============================] - 0s 4ms/step - loss: 0.4579 - accuracy: 0.9157\n",
      "Epoch 116/200\n",
      "3/3 [==============================] - 0s 4ms/step - loss: 0.4482 - accuracy: 0.9157\n",
      "Epoch 117/200\n",
      "3/3 [==============================] - 0s 4ms/step - loss: 0.4395 - accuracy: 0.9277\n",
      "Epoch 118/200\n",
      "3/3 [==============================] - 0s 4ms/step - loss: 0.4325 - accuracy: 0.9277\n",
      "Epoch 119/200\n",
      "3/3 [==============================] - 0s 4ms/step - loss: 0.4258 - accuracy: 0.9277\n",
      "Epoch 120/200\n",
      "3/3 [==============================] - 0s 4ms/step - loss: 0.4185 - accuracy: 0.9277\n",
      "Epoch 121/200\n",
      "3/3 [==============================] - 0s 4ms/step - loss: 0.4134 - accuracy: 0.9277\n",
      "Epoch 122/200\n",
      "3/3 [==============================] - 0s 4ms/step - loss: 0.4067 - accuracy: 0.9277\n",
      "Epoch 123/200\n",
      "3/3 [==============================] - 0s 4ms/step - loss: 0.4050 - accuracy: 0.9277\n",
      "Epoch 124/200\n",
      "3/3 [==============================] - 0s 4ms/step - loss: 0.3938 - accuracy: 0.9277\n",
      "Epoch 125/200\n",
      "3/3 [==============================] - 0s 4ms/step - loss: 0.3923 - accuracy: 0.9277\n",
      "Epoch 126/200\n",
      "3/3 [==============================] - 0s 4ms/step - loss: 0.3822 - accuracy: 0.9277\n",
      "Epoch 127/200\n",
      "3/3 [==============================] - 0s 4ms/step - loss: 0.3777 - accuracy: 0.9398\n",
      "Epoch 128/200\n",
      "3/3 [==============================] - 0s 4ms/step - loss: 0.3759 - accuracy: 0.9398\n",
      "Epoch 129/200\n",
      "3/3 [==============================] - 0s 4ms/step - loss: 0.3671 - accuracy: 0.9398\n",
      "Epoch 130/200\n",
      "3/3 [==============================] - 0s 4ms/step - loss: 0.3595 - accuracy: 0.9398\n",
      "Epoch 131/200\n",
      "3/3 [==============================] - 0s 5ms/step - loss: 0.3577 - accuracy: 0.9398\n",
      "Epoch 132/200\n",
      "3/3 [==============================] - 0s 4ms/step - loss: 0.3514 - accuracy: 0.9398\n",
      "Epoch 133/200\n",
      "3/3 [==============================] - 0s 4ms/step - loss: 0.3436 - accuracy: 0.9398\n",
      "Epoch 134/200\n",
      "3/3 [==============================] - 0s 4ms/step - loss: 0.3373 - accuracy: 0.9398\n",
      "Epoch 135/200\n",
      "3/3 [==============================] - 0s 4ms/step - loss: 0.3352 - accuracy: 0.9398\n",
      "Epoch 136/200\n",
      "3/3 [==============================] - 0s 4ms/step - loss: 0.3294 - accuracy: 0.9398\n",
      "Epoch 137/200\n",
      "3/3 [==============================] - 0s 5ms/step - loss: 0.3279 - accuracy: 0.9277\n",
      "Epoch 138/200\n",
      "3/3 [==============================] - 0s 4ms/step - loss: 0.3210 - accuracy: 0.9277\n",
      "Epoch 139/200\n",
      "3/3 [==============================] - 0s 5ms/step - loss: 0.3187 - accuracy: 0.9398\n",
      "Epoch 140/200\n",
      "3/3 [==============================] - 0s 4ms/step - loss: 0.3123 - accuracy: 0.9398\n",
      "Epoch 141/200\n",
      "3/3 [==============================] - 0s 4ms/step - loss: 0.3103 - accuracy: 0.9398\n",
      "Epoch 142/200\n",
      "3/3 [==============================] - 0s 4ms/step - loss: 0.2990 - accuracy: 0.9398\n",
      "Epoch 143/200\n",
      "3/3 [==============================] - 0s 4ms/step - loss: 0.3035 - accuracy: 0.9398\n",
      "Epoch 144/200\n",
      "3/3 [==============================] - 0s 4ms/step - loss: 0.2923 - accuracy: 0.9398\n",
      "Epoch 145/200\n",
      "3/3 [==============================] - 0s 4ms/step - loss: 0.2906 - accuracy: 0.9398\n",
      "Epoch 146/200\n",
      "3/3 [==============================] - 0s 4ms/step - loss: 0.2849 - accuracy: 0.9398\n",
      "Epoch 147/200\n",
      "3/3 [==============================] - 0s 4ms/step - loss: 0.2788 - accuracy: 0.9398\n",
      "Epoch 148/200\n",
      "3/3 [==============================] - 0s 4ms/step - loss: 0.2762 - accuracy: 0.9518\n",
      "Epoch 149/200\n",
      "3/3 [==============================] - 0s 4ms/step - loss: 0.2698 - accuracy: 0.9518\n",
      "Epoch 150/200\n",
      "3/3 [==============================] - 0s 4ms/step - loss: 0.2693 - accuracy: 0.9639\n",
      "Epoch 151/200\n",
      "3/3 [==============================] - 0s 4ms/step - loss: 0.2620 - accuracy: 0.9639\n",
      "Epoch 152/200\n",
      "3/3 [==============================] - 0s 4ms/step - loss: 0.2597 - accuracy: 0.9398\n",
      "Epoch 153/200\n",
      "3/3 [==============================] - 0s 4ms/step - loss: 0.2576 - accuracy: 0.9518\n",
      "Epoch 154/200\n",
      "3/3 [==============================] - 0s 4ms/step - loss: 0.2522 - accuracy: 0.9639\n",
      "Epoch 155/200\n",
      "3/3 [==============================] - 0s 4ms/step - loss: 0.2494 - accuracy: 0.9880\n",
      "Epoch 156/200\n",
      "3/3 [==============================] - 0s 4ms/step - loss: 0.2462 - accuracy: 0.9759\n",
      "Epoch 157/200\n",
      "3/3 [==============================] - 0s 4ms/step - loss: 0.2420 - accuracy: 0.9880\n",
      "Epoch 158/200\n",
      "3/3 [==============================] - 0s 4ms/step - loss: 0.2364 - accuracy: 0.9880\n",
      "Epoch 159/200\n",
      "3/3 [==============================] - 0s 4ms/step - loss: 0.2344 - accuracy: 0.9880\n",
      "Epoch 160/200\n",
      "3/3 [==============================] - 0s 4ms/step - loss: 0.2293 - accuracy: 0.9880\n",
      "Epoch 161/200\n",
      "3/3 [==============================] - 0s 4ms/step - loss: 0.2270 - accuracy: 0.9880\n",
      "Epoch 162/200\n",
      "3/3 [==============================] - 0s 4ms/step - loss: 0.2243 - accuracy: 0.9880\n",
      "Epoch 163/200\n",
      "3/3 [==============================] - 0s 4ms/step - loss: 0.2195 - accuracy: 0.9880\n",
      "Epoch 164/200\n",
      "3/3 [==============================] - 0s 4ms/step - loss: 0.2170 - accuracy: 0.9880\n",
      "Epoch 165/200\n",
      "3/3 [==============================] - 0s 4ms/step - loss: 0.2148 - accuracy: 0.9880\n",
      "Epoch 166/200\n",
      "3/3 [==============================] - 0s 4ms/step - loss: 0.2111 - accuracy: 0.9880\n",
      "Epoch 167/200\n",
      "3/3 [==============================] - 0s 4ms/step - loss: 0.2080 - accuracy: 0.9880\n",
      "Epoch 168/200\n",
      "3/3 [==============================] - 0s 4ms/step - loss: 0.2080 - accuracy: 0.9880\n",
      "Epoch 169/200\n",
      "3/3 [==============================] - 0s 4ms/step - loss: 0.2042 - accuracy: 0.9880\n",
      "Epoch 170/200\n",
      "3/3 [==============================] - 0s 4ms/step - loss: 0.2014 - accuracy: 0.9880\n",
      "Epoch 171/200\n",
      "3/3 [==============================] - 0s 4ms/step - loss: 0.1983 - accuracy: 0.9880\n",
      "Epoch 172/200\n",
      "3/3 [==============================] - 0s 4ms/step - loss: 0.1945 - accuracy: 0.9880\n",
      "Epoch 173/200\n",
      "3/3 [==============================] - 0s 4ms/step - loss: 0.1910 - accuracy: 0.9880\n",
      "Epoch 174/200\n",
      "3/3 [==============================] - 0s 4ms/step - loss: 0.1881 - accuracy: 0.9880\n",
      "Epoch 175/200\n",
      "3/3 [==============================] - 0s 4ms/step - loss: 0.1852 - accuracy: 0.9880\n",
      "Epoch 176/200\n",
      "3/3 [==============================] - 0s 4ms/step - loss: 0.1844 - accuracy: 0.9880\n",
      "Epoch 177/200\n",
      "3/3 [==============================] - 0s 4ms/step - loss: 0.1812 - accuracy: 0.9880\n",
      "Epoch 178/200\n",
      "3/3 [==============================] - 0s 4ms/step - loss: 0.1792 - accuracy: 0.9880\n",
      "Epoch 179/200\n",
      "3/3 [==============================] - 0s 4ms/step - loss: 0.1750 - accuracy: 0.9880\n",
      "Epoch 180/200\n",
      "3/3 [==============================] - 0s 4ms/step - loss: 0.1726 - accuracy: 0.9880\n",
      "Epoch 181/200\n",
      "3/3 [==============================] - 0s 4ms/step - loss: 0.1724 - accuracy: 0.9880\n",
      "Epoch 182/200\n",
      "3/3 [==============================] - 0s 4ms/step - loss: 0.1675 - accuracy: 0.9880\n",
      "Epoch 183/200\n",
      "3/3 [==============================] - 0s 4ms/step - loss: 0.1659 - accuracy: 0.9880\n",
      "Epoch 184/200\n",
      "3/3 [==============================] - 0s 4ms/step - loss: 0.1638 - accuracy: 0.9880\n",
      "Epoch 185/200\n",
      "3/3 [==============================] - 0s 4ms/step - loss: 0.1603 - accuracy: 0.9880\n",
      "Epoch 186/200\n",
      "3/3 [==============================] - 0s 4ms/step - loss: 0.1593 - accuracy: 0.9880\n",
      "Epoch 187/200\n",
      "3/3 [==============================] - 0s 4ms/step - loss: 0.1572 - accuracy: 1.0000\n",
      "Epoch 188/200\n",
      "3/3 [==============================] - 0s 4ms/step - loss: 0.1551 - accuracy: 1.0000\n",
      "Epoch 189/200\n",
      "3/3 [==============================] - 0s 4ms/step - loss: 0.1517 - accuracy: 1.0000\n",
      "Epoch 190/200\n",
      "3/3 [==============================] - 0s 4ms/step - loss: 0.1504 - accuracy: 1.0000\n",
      "Epoch 191/200\n",
      "3/3 [==============================] - 0s 4ms/step - loss: 0.1487 - accuracy: 1.0000\n",
      "Epoch 192/200\n",
      "3/3 [==============================] - 0s 4ms/step - loss: 0.1455 - accuracy: 1.0000\n",
      "Epoch 193/200\n",
      "3/3 [==============================] - 0s 4ms/step - loss: 0.1434 - accuracy: 1.0000\n",
      "Epoch 194/200\n",
      "3/3 [==============================] - 0s 4ms/step - loss: 0.1415 - accuracy: 1.0000\n",
      "Epoch 195/200\n",
      "3/3 [==============================] - 0s 4ms/step - loss: 0.1397 - accuracy: 1.0000\n",
      "Epoch 196/200\n",
      "3/3 [==============================] - 0s 4ms/step - loss: 0.1373 - accuracy: 1.0000\n",
      "Epoch 197/200\n",
      "3/3 [==============================] - 0s 4ms/step - loss: 0.1355 - accuracy: 1.0000\n",
      "Epoch 198/200\n",
      "3/3 [==============================] - 0s 4ms/step - loss: 0.1361 - accuracy: 1.0000\n",
      "Epoch 199/200\n",
      "3/3 [==============================] - 0s 4ms/step - loss: 0.1311 - accuracy: 1.0000\n",
      "Epoch 200/200\n",
      "3/3 [==============================] - 0s 4ms/step - loss: 0.1306 - accuracy: 1.0000\n"
     ]
    }
   ],
   "source": [
    "#training the model\n",
    "train = model.fit(x_train,y_train,epochs=200)"
   ]
  },
  {
   "cell_type": "markdown",
   "metadata": {},
   "source": [
    "<h2> Model Analysis </h2>\n",
    "\n",
    "The model got a perfect accuracy of 100%. "
   ]
  },
  {
   "cell_type": "code",
   "execution_count": 31,
   "metadata": {
    "colab": {
     "base_uri": "https://localhost:8080/",
     "height": 282
    },
    "id": "BcWCycGSLbeB",
    "outputId": "b8a60f76-7488-466e-8950-3d42b4b7b4c3"
   },
   "outputs": [
    {
     "data": {
      "text/plain": [
       "<matplotlib.legend.Legend at 0x7fa53428fb20>"
      ]
     },
     "execution_count": 31,
     "metadata": {},
     "output_type": "execute_result"
    },
    {
     "data": {
      "image/png": "[encoded data removed]",
      "text/plain": [
       "<Figure size 640x480 with 1 Axes>"
      ]
     },
     "metadata": {},
     "output_type": "display_data"
    }
   ],
   "source": [
    "#plotting model accuracy\n",
    "plt.plot(train.history['accuracy'],label='training set accuracy')\n",
    "plt.plot(train.history['loss'],label='training set loss')\n",
    "plt.legend()"
   ]
  },
  {
   "cell_type": "markdown",
   "metadata": {},
   "source": [
    "<h2> Testing </h2>\n",
    "\n",
    "I have also tested the model in a way to mimic a human interacting with a bot and got positive results. however, This was very simple because of the tiny amount of data that I have created. but, the same model can also be used with large amount of data"
   ]
  },
  {
   "cell_type": "code",
   "execution_count": 32,
   "metadata": {
    "colab": {
     "base_uri": "https://localhost:8080/",
     "height": 241
    },
    "id": "71ITeJqtfV0s",
    "outputId": "8da86848-8252-4ced-b535-df0c03edfaa4"
   },
   "outputs": [
    {
     "name": "stdout",
     "output_type": "stream",
     "text": [
      "1/1 [==============================] - 0s 286ms/step\n",
      "Going Merry :  Start you app and click on the create group button. You will be asked to enter the name of the group and the description of the group. After that you will be asked to add members to the group. You can add members by entering their email address or by selecting them from the list of users. After that you can click on the create button to create the group.\n"
     ]
    }
   ],
   "source": [
    "#chatting\n",
    "import random\n",
    "\n",
    "\n",
    "while True:\n",
    "  texts_p = []\n",
    "  prediction_input = input('You : ')\n",
    "\n",
    "  #removing punctuation and converting to lowercase\n",
    "  prediction_input = [letters.lower() for letters in prediction_input if letters not in string.punctuation]\n",
    "  prediction_input = ''.join(prediction_input)\n",
    "  texts_p.append(prediction_input)\n",
    "\n",
    "  #tokenizing and padding\n",
    "  prediction_input = tokenizer.texts_to_sequences(texts_p)\n",
    "  prediction_input = np.array(prediction_input).reshape(-1)\n",
    "  prediction_input = pad_sequences([prediction_input],input_shape)\n",
    "\n",
    "  #getting output from model\n",
    "  output = model.predict(prediction_input)\n",
    "  output = output.argmax()\n",
    "\n",
    "  #finding the right tag and predicting\n",
    "  response_tag = le.inverse_transform([output])[0]\n",
    "  print(\"Going Merry : \",random.choice(responses[response_tag]))\n",
    "  if response_tag == \"goodbye\":\n",
    "    break"
   ]
  },
  {
   "cell_type": "markdown",
   "metadata": {},
   "source": [
    "<h2> Conclusion </h2>\n",
    "So, This is the Chatbot that I have created with tensorflow2 utilizing the power of embedding matrix.<br>\n",
    "This was created in memory og <b> Going Merry </b> , a ship from a manga called \"One Piece\" which revolves around the story of 5 pirates. "
   ]
  }
 ],
 "metadata": {
  "colab": {
   "collapsed_sections": [],
   "name": "chatbot.ipynb",
   "provenance": [],
   "toc_visible": true
  },
  "kernelspec": {
   "display_name": "Python 3",
   "language": "python",
   "name": "python3"
  },
  "language_info": {
   "codemirror_mode": {
    "name": "ipython",
    "version": 3
   },
   "file_extension": ".py",
   "mimetype": "text/x-python",
   "name": "python",
   "nbconvert_exporter": "python",
   "pygments_lexer": "ipython3",
   "version": "3.10.4"
  },
  "vscode": {
   "interpreter": {
    "hash": "3ad933181bd8a04b432d3370b9dc3b0662ad032c4dfaa4e4f1596c548f763858"
   }
  }
 },
 "nbformat": 4,
 "nbformat_minor": 1
}
